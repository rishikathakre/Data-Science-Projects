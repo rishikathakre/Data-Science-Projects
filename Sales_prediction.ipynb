{
  "cells": [
    {
      "cell_type": "markdown",
      "metadata": {
        "id": "view-in-github",
        "colab_type": "text"
      },
      "source": [
        "<a href=\"https://colab.research.google.com/github/rishikathakre/OIBSIP/blob/main/Sales_prediction.ipynb\" target=\"_parent\"><img src=\"https://colab.research.google.com/assets/colab-badge.svg\" alt=\"Open In Colab\"/></a>"
      ]
    },
    {
      "cell_type": "markdown",
      "id": "b04bd270",
      "metadata": {
        "id": "b04bd270"
      },
      "source": [
        "## Name : Rishika Thakre\n",
        "## College : P.E.S Modern College of Engineering\n",
        "## Task 5 : SALES PREDICTION USING PYTHON"
      ]
    },
    {
      "cell_type": "markdown",
      "id": "12529ee2",
      "metadata": {
        "id": "12529ee2"
      },
      "source": [
        "## To predict total sales by using features like money spent on marketing on individual channels"
      ]
    },
    {
      "cell_type": "markdown",
      "id": "defc71b9",
      "metadata": {
        "id": "defc71b9"
      },
      "source": [
        "#### Domain Analysis\n",
        "1) TV:- Amount spent on TV advertisement  \n",
        "2) Radio:- Amount spent on Radio  \n",
        "3) Newspaper:- Amount spent on newspaper  \n",
        "4) Sales:- Sales of product  "
      ]
    },
    {
      "cell_type": "code",
      "execution_count": null,
      "id": "416b96e8",
      "metadata": {
        "id": "416b96e8"
      },
      "outputs": [],
      "source": [
        "import pandas as pd\n",
        "import numpy as np\n",
        "import matplotlib.pyplot as plt\n",
        "import seaborn as sns\n",
        "%matplotlib inline"
      ]
    },
    {
      "cell_type": "code",
      "execution_count": null,
      "id": "6da548d9",
      "metadata": {
        "id": "6da548d9"
      },
      "outputs": [],
      "source": [
        "data=pd.read_csv('Advertising.csv.xls')"
      ]
    },
    {
      "cell_type": "code",
      "execution_count": null,
      "id": "942ce0cf",
      "metadata": {
        "id": "942ce0cf",
        "outputId": "07a642fb-1a40-422f-83c0-48168188bb48"
      },
      "outputs": [
        {
          "data": {
            "text/html": [
              "<div>\n",
              "<style scoped>\n",
              "    .dataframe tbody tr th:only-of-type {\n",
              "        vertical-align: middle;\n",
              "    }\n",
              "\n",
              "    .dataframe tbody tr th {\n",
              "        vertical-align: top;\n",
              "    }\n",
              "\n",
              "    .dataframe thead th {\n",
              "        text-align: right;\n",
              "    }\n",
              "</style>\n",
              "<table border=\"1\" class=\"dataframe\">\n",
              "  <thead>\n",
              "    <tr style=\"text-align: right;\">\n",
              "      <th></th>\n",
              "      <th>Unnamed: 0</th>\n",
              "      <th>TV</th>\n",
              "      <th>Radio</th>\n",
              "      <th>Newspaper</th>\n",
              "      <th>Sales</th>\n",
              "    </tr>\n",
              "  </thead>\n",
              "  <tbody>\n",
              "    <tr>\n",
              "      <th>0</th>\n",
              "      <td>1</td>\n",
              "      <td>230.1</td>\n",
              "      <td>37.8</td>\n",
              "      <td>69.2</td>\n",
              "      <td>22.1</td>\n",
              "    </tr>\n",
              "    <tr>\n",
              "      <th>1</th>\n",
              "      <td>2</td>\n",
              "      <td>44.5</td>\n",
              "      <td>39.3</td>\n",
              "      <td>45.1</td>\n",
              "      <td>10.4</td>\n",
              "    </tr>\n",
              "    <tr>\n",
              "      <th>2</th>\n",
              "      <td>3</td>\n",
              "      <td>17.2</td>\n",
              "      <td>45.9</td>\n",
              "      <td>69.3</td>\n",
              "      <td>9.3</td>\n",
              "    </tr>\n",
              "    <tr>\n",
              "      <th>3</th>\n",
              "      <td>4</td>\n",
              "      <td>151.5</td>\n",
              "      <td>41.3</td>\n",
              "      <td>58.5</td>\n",
              "      <td>18.5</td>\n",
              "    </tr>\n",
              "    <tr>\n",
              "      <th>4</th>\n",
              "      <td>5</td>\n",
              "      <td>180.8</td>\n",
              "      <td>10.8</td>\n",
              "      <td>58.4</td>\n",
              "      <td>12.9</td>\n",
              "    </tr>\n",
              "    <tr>\n",
              "      <th>...</th>\n",
              "      <td>...</td>\n",
              "      <td>...</td>\n",
              "      <td>...</td>\n",
              "      <td>...</td>\n",
              "      <td>...</td>\n",
              "    </tr>\n",
              "    <tr>\n",
              "      <th>195</th>\n",
              "      <td>196</td>\n",
              "      <td>38.2</td>\n",
              "      <td>3.7</td>\n",
              "      <td>13.8</td>\n",
              "      <td>7.6</td>\n",
              "    </tr>\n",
              "    <tr>\n",
              "      <th>196</th>\n",
              "      <td>197</td>\n",
              "      <td>94.2</td>\n",
              "      <td>4.9</td>\n",
              "      <td>8.1</td>\n",
              "      <td>9.7</td>\n",
              "    </tr>\n",
              "    <tr>\n",
              "      <th>197</th>\n",
              "      <td>198</td>\n",
              "      <td>177.0</td>\n",
              "      <td>9.3</td>\n",
              "      <td>6.4</td>\n",
              "      <td>12.8</td>\n",
              "    </tr>\n",
              "    <tr>\n",
              "      <th>198</th>\n",
              "      <td>199</td>\n",
              "      <td>283.6</td>\n",
              "      <td>42.0</td>\n",
              "      <td>66.2</td>\n",
              "      <td>25.5</td>\n",
              "    </tr>\n",
              "    <tr>\n",
              "      <th>199</th>\n",
              "      <td>200</td>\n",
              "      <td>232.1</td>\n",
              "      <td>8.6</td>\n",
              "      <td>8.7</td>\n",
              "      <td>13.4</td>\n",
              "    </tr>\n",
              "  </tbody>\n",
              "</table>\n",
              "<p>200 rows × 5 columns</p>\n",
              "</div>"
            ],
            "text/plain": [
              "     Unnamed: 0     TV  Radio  Newspaper  Sales\n",
              "0             1  230.1   37.8       69.2   22.1\n",
              "1             2   44.5   39.3       45.1   10.4\n",
              "2             3   17.2   45.9       69.3    9.3\n",
              "3             4  151.5   41.3       58.5   18.5\n",
              "4             5  180.8   10.8       58.4   12.9\n",
              "..          ...    ...    ...        ...    ...\n",
              "195         196   38.2    3.7       13.8    7.6\n",
              "196         197   94.2    4.9        8.1    9.7\n",
              "197         198  177.0    9.3        6.4   12.8\n",
              "198         199  283.6   42.0       66.2   25.5\n",
              "199         200  232.1    8.6        8.7   13.4\n",
              "\n",
              "[200 rows x 5 columns]"
            ]
          },
          "execution_count": 3,
          "metadata": {},
          "output_type": "execute_result"
        }
      ],
      "source": [
        "data"
      ]
    },
    {
      "cell_type": "code",
      "execution_count": null,
      "id": "a079b110",
      "metadata": {
        "id": "a079b110",
        "outputId": "fa661f66-6bd3-4c88-c348-bb55582e88be"
      },
      "outputs": [
        {
          "data": {
            "text/html": [
              "<div>\n",
              "<style scoped>\n",
              "    .dataframe tbody tr th:only-of-type {\n",
              "        vertical-align: middle;\n",
              "    }\n",
              "\n",
              "    .dataframe tbody tr th {\n",
              "        vertical-align: top;\n",
              "    }\n",
              "\n",
              "    .dataframe thead th {\n",
              "        text-align: right;\n",
              "    }\n",
              "</style>\n",
              "<table border=\"1\" class=\"dataframe\">\n",
              "  <thead>\n",
              "    <tr style=\"text-align: right;\">\n",
              "      <th></th>\n",
              "      <th>Unnamed: 0</th>\n",
              "      <th>TV</th>\n",
              "      <th>Radio</th>\n",
              "      <th>Newspaper</th>\n",
              "      <th>Sales</th>\n",
              "    </tr>\n",
              "  </thead>\n",
              "  <tbody>\n",
              "    <tr>\n",
              "      <th>0</th>\n",
              "      <td>1</td>\n",
              "      <td>230.1</td>\n",
              "      <td>37.8</td>\n",
              "      <td>69.2</td>\n",
              "      <td>22.1</td>\n",
              "    </tr>\n",
              "    <tr>\n",
              "      <th>1</th>\n",
              "      <td>2</td>\n",
              "      <td>44.5</td>\n",
              "      <td>39.3</td>\n",
              "      <td>45.1</td>\n",
              "      <td>10.4</td>\n",
              "    </tr>\n",
              "    <tr>\n",
              "      <th>2</th>\n",
              "      <td>3</td>\n",
              "      <td>17.2</td>\n",
              "      <td>45.9</td>\n",
              "      <td>69.3</td>\n",
              "      <td>9.3</td>\n",
              "    </tr>\n",
              "    <tr>\n",
              "      <th>3</th>\n",
              "      <td>4</td>\n",
              "      <td>151.5</td>\n",
              "      <td>41.3</td>\n",
              "      <td>58.5</td>\n",
              "      <td>18.5</td>\n",
              "    </tr>\n",
              "    <tr>\n",
              "      <th>4</th>\n",
              "      <td>5</td>\n",
              "      <td>180.8</td>\n",
              "      <td>10.8</td>\n",
              "      <td>58.4</td>\n",
              "      <td>12.9</td>\n",
              "    </tr>\n",
              "    <tr>\n",
              "      <th>5</th>\n",
              "      <td>6</td>\n",
              "      <td>8.7</td>\n",
              "      <td>48.9</td>\n",
              "      <td>75.0</td>\n",
              "      <td>7.2</td>\n",
              "    </tr>\n",
              "    <tr>\n",
              "      <th>6</th>\n",
              "      <td>7</td>\n",
              "      <td>57.5</td>\n",
              "      <td>32.8</td>\n",
              "      <td>23.5</td>\n",
              "      <td>11.8</td>\n",
              "    </tr>\n",
              "    <tr>\n",
              "      <th>7</th>\n",
              "      <td>8</td>\n",
              "      <td>120.2</td>\n",
              "      <td>19.6</td>\n",
              "      <td>11.6</td>\n",
              "      <td>13.2</td>\n",
              "    </tr>\n",
              "    <tr>\n",
              "      <th>8</th>\n",
              "      <td>9</td>\n",
              "      <td>8.6</td>\n",
              "      <td>2.1</td>\n",
              "      <td>1.0</td>\n",
              "      <td>4.8</td>\n",
              "    </tr>\n",
              "    <tr>\n",
              "      <th>9</th>\n",
              "      <td>10</td>\n",
              "      <td>199.8</td>\n",
              "      <td>2.6</td>\n",
              "      <td>21.2</td>\n",
              "      <td>10.6</td>\n",
              "    </tr>\n",
              "  </tbody>\n",
              "</table>\n",
              "</div>"
            ],
            "text/plain": [
              "   Unnamed: 0     TV  Radio  Newspaper  Sales\n",
              "0           1  230.1   37.8       69.2   22.1\n",
              "1           2   44.5   39.3       45.1   10.4\n",
              "2           3   17.2   45.9       69.3    9.3\n",
              "3           4  151.5   41.3       58.5   18.5\n",
              "4           5  180.8   10.8       58.4   12.9\n",
              "5           6    8.7   48.9       75.0    7.2\n",
              "6           7   57.5   32.8       23.5   11.8\n",
              "7           8  120.2   19.6       11.6   13.2\n",
              "8           9    8.6    2.1        1.0    4.8\n",
              "9          10  199.8    2.6       21.2   10.6"
            ]
          },
          "execution_count": 4,
          "metadata": {},
          "output_type": "execute_result"
        }
      ],
      "source": [
        "data.head(10)"
      ]
    },
    {
      "cell_type": "code",
      "execution_count": null,
      "id": "4fa870b7",
      "metadata": {
        "id": "4fa870b7",
        "outputId": "8dbebfd9-c426-4d99-ca21-5dc22163205c"
      },
      "outputs": [
        {
          "data": {
            "text/html": [
              "<div>\n",
              "<style scoped>\n",
              "    .dataframe tbody tr th:only-of-type {\n",
              "        vertical-align: middle;\n",
              "    }\n",
              "\n",
              "    .dataframe tbody tr th {\n",
              "        vertical-align: top;\n",
              "    }\n",
              "\n",
              "    .dataframe thead th {\n",
              "        text-align: right;\n",
              "    }\n",
              "</style>\n",
              "<table border=\"1\" class=\"dataframe\">\n",
              "  <thead>\n",
              "    <tr style=\"text-align: right;\">\n",
              "      <th></th>\n",
              "      <th>Unnamed: 0</th>\n",
              "      <th>TV</th>\n",
              "      <th>Radio</th>\n",
              "      <th>Newspaper</th>\n",
              "      <th>Sales</th>\n",
              "    </tr>\n",
              "  </thead>\n",
              "  <tbody>\n",
              "    <tr>\n",
              "      <th>190</th>\n",
              "      <td>191</td>\n",
              "      <td>39.5</td>\n",
              "      <td>41.1</td>\n",
              "      <td>5.8</td>\n",
              "      <td>10.8</td>\n",
              "    </tr>\n",
              "    <tr>\n",
              "      <th>191</th>\n",
              "      <td>192</td>\n",
              "      <td>75.5</td>\n",
              "      <td>10.8</td>\n",
              "      <td>6.0</td>\n",
              "      <td>9.9</td>\n",
              "    </tr>\n",
              "    <tr>\n",
              "      <th>192</th>\n",
              "      <td>193</td>\n",
              "      <td>17.2</td>\n",
              "      <td>4.1</td>\n",
              "      <td>31.6</td>\n",
              "      <td>5.9</td>\n",
              "    </tr>\n",
              "    <tr>\n",
              "      <th>193</th>\n",
              "      <td>194</td>\n",
              "      <td>166.8</td>\n",
              "      <td>42.0</td>\n",
              "      <td>3.6</td>\n",
              "      <td>19.6</td>\n",
              "    </tr>\n",
              "    <tr>\n",
              "      <th>194</th>\n",
              "      <td>195</td>\n",
              "      <td>149.7</td>\n",
              "      <td>35.6</td>\n",
              "      <td>6.0</td>\n",
              "      <td>17.3</td>\n",
              "    </tr>\n",
              "    <tr>\n",
              "      <th>195</th>\n",
              "      <td>196</td>\n",
              "      <td>38.2</td>\n",
              "      <td>3.7</td>\n",
              "      <td>13.8</td>\n",
              "      <td>7.6</td>\n",
              "    </tr>\n",
              "    <tr>\n",
              "      <th>196</th>\n",
              "      <td>197</td>\n",
              "      <td>94.2</td>\n",
              "      <td>4.9</td>\n",
              "      <td>8.1</td>\n",
              "      <td>9.7</td>\n",
              "    </tr>\n",
              "    <tr>\n",
              "      <th>197</th>\n",
              "      <td>198</td>\n",
              "      <td>177.0</td>\n",
              "      <td>9.3</td>\n",
              "      <td>6.4</td>\n",
              "      <td>12.8</td>\n",
              "    </tr>\n",
              "    <tr>\n",
              "      <th>198</th>\n",
              "      <td>199</td>\n",
              "      <td>283.6</td>\n",
              "      <td>42.0</td>\n",
              "      <td>66.2</td>\n",
              "      <td>25.5</td>\n",
              "    </tr>\n",
              "    <tr>\n",
              "      <th>199</th>\n",
              "      <td>200</td>\n",
              "      <td>232.1</td>\n",
              "      <td>8.6</td>\n",
              "      <td>8.7</td>\n",
              "      <td>13.4</td>\n",
              "    </tr>\n",
              "  </tbody>\n",
              "</table>\n",
              "</div>"
            ],
            "text/plain": [
              "     Unnamed: 0     TV  Radio  Newspaper  Sales\n",
              "190         191   39.5   41.1        5.8   10.8\n",
              "191         192   75.5   10.8        6.0    9.9\n",
              "192         193   17.2    4.1       31.6    5.9\n",
              "193         194  166.8   42.0        3.6   19.6\n",
              "194         195  149.7   35.6        6.0   17.3\n",
              "195         196   38.2    3.7       13.8    7.6\n",
              "196         197   94.2    4.9        8.1    9.7\n",
              "197         198  177.0    9.3        6.4   12.8\n",
              "198         199  283.6   42.0       66.2   25.5\n",
              "199         200  232.1    8.6        8.7   13.4"
            ]
          },
          "execution_count": 5,
          "metadata": {},
          "output_type": "execute_result"
        }
      ],
      "source": [
        "data.tail(10)"
      ]
    },
    {
      "cell_type": "code",
      "execution_count": null,
      "id": "dd41691b",
      "metadata": {
        "id": "dd41691b",
        "outputId": "7447a505-b47e-4e45-cf2f-7ad9129e399e"
      },
      "outputs": [
        {
          "data": {
            "text/html": [
              "<div>\n",
              "<style scoped>\n",
              "    .dataframe tbody tr th:only-of-type {\n",
              "        vertical-align: middle;\n",
              "    }\n",
              "\n",
              "    .dataframe tbody tr th {\n",
              "        vertical-align: top;\n",
              "    }\n",
              "\n",
              "    .dataframe thead th {\n",
              "        text-align: right;\n",
              "    }\n",
              "</style>\n",
              "<table border=\"1\" class=\"dataframe\">\n",
              "  <thead>\n",
              "    <tr style=\"text-align: right;\">\n",
              "      <th></th>\n",
              "      <th>Unnamed: 0</th>\n",
              "      <th>TV</th>\n",
              "      <th>Radio</th>\n",
              "      <th>Newspaper</th>\n",
              "      <th>Sales</th>\n",
              "    </tr>\n",
              "  </thead>\n",
              "  <tbody>\n",
              "    <tr>\n",
              "      <th>count</th>\n",
              "      <td>200.000000</td>\n",
              "      <td>200.000000</td>\n",
              "      <td>200.000000</td>\n",
              "      <td>200.000000</td>\n",
              "      <td>200.000000</td>\n",
              "    </tr>\n",
              "    <tr>\n",
              "      <th>mean</th>\n",
              "      <td>100.500000</td>\n",
              "      <td>147.042500</td>\n",
              "      <td>23.264000</td>\n",
              "      <td>30.554000</td>\n",
              "      <td>14.022500</td>\n",
              "    </tr>\n",
              "    <tr>\n",
              "      <th>std</th>\n",
              "      <td>57.879185</td>\n",
              "      <td>85.854236</td>\n",
              "      <td>14.846809</td>\n",
              "      <td>21.778621</td>\n",
              "      <td>5.217457</td>\n",
              "    </tr>\n",
              "    <tr>\n",
              "      <th>min</th>\n",
              "      <td>1.000000</td>\n",
              "      <td>0.700000</td>\n",
              "      <td>0.000000</td>\n",
              "      <td>0.300000</td>\n",
              "      <td>1.600000</td>\n",
              "    </tr>\n",
              "    <tr>\n",
              "      <th>25%</th>\n",
              "      <td>50.750000</td>\n",
              "      <td>74.375000</td>\n",
              "      <td>9.975000</td>\n",
              "      <td>12.750000</td>\n",
              "      <td>10.375000</td>\n",
              "    </tr>\n",
              "    <tr>\n",
              "      <th>50%</th>\n",
              "      <td>100.500000</td>\n",
              "      <td>149.750000</td>\n",
              "      <td>22.900000</td>\n",
              "      <td>25.750000</td>\n",
              "      <td>12.900000</td>\n",
              "    </tr>\n",
              "    <tr>\n",
              "      <th>75%</th>\n",
              "      <td>150.250000</td>\n",
              "      <td>218.825000</td>\n",
              "      <td>36.525000</td>\n",
              "      <td>45.100000</td>\n",
              "      <td>17.400000</td>\n",
              "    </tr>\n",
              "    <tr>\n",
              "      <th>max</th>\n",
              "      <td>200.000000</td>\n",
              "      <td>296.400000</td>\n",
              "      <td>49.600000</td>\n",
              "      <td>114.000000</td>\n",
              "      <td>27.000000</td>\n",
              "    </tr>\n",
              "  </tbody>\n",
              "</table>\n",
              "</div>"
            ],
            "text/plain": [
              "       Unnamed: 0          TV       Radio   Newspaper       Sales\n",
              "count  200.000000  200.000000  200.000000  200.000000  200.000000\n",
              "mean   100.500000  147.042500   23.264000   30.554000   14.022500\n",
              "std     57.879185   85.854236   14.846809   21.778621    5.217457\n",
              "min      1.000000    0.700000    0.000000    0.300000    1.600000\n",
              "25%     50.750000   74.375000    9.975000   12.750000   10.375000\n",
              "50%    100.500000  149.750000   22.900000   25.750000   12.900000\n",
              "75%    150.250000  218.825000   36.525000   45.100000   17.400000\n",
              "max    200.000000  296.400000   49.600000  114.000000   27.000000"
            ]
          },
          "execution_count": 6,
          "metadata": {},
          "output_type": "execute_result"
        }
      ],
      "source": [
        "data.describe()"
      ]
    },
    {
      "cell_type": "markdown",
      "id": "ccfd8ddc",
      "metadata": {
        "id": "ccfd8ddc"
      },
      "source": [
        "### INSIGTHS\n",
        "1)The distribution of TV advertisemnet has more spread as compared to others  \n",
        "2)In once case the company has spend 0 dollars for advertisemnt on Radio  \n",
        "3)The cost of advertisemnt on radio is less while for TV is high  "
      ]
    },
    {
      "cell_type": "code",
      "execution_count": null,
      "id": "a10f237c",
      "metadata": {
        "id": "a10f237c",
        "outputId": "e1e92fa0-9554-44ac-873e-d0b82195ead0"
      },
      "outputs": [
        {
          "name": "stdout",
          "output_type": "stream",
          "text": [
            "<class 'pandas.core.frame.DataFrame'>\n",
            "RangeIndex: 200 entries, 0 to 199\n",
            "Data columns (total 5 columns):\n",
            " #   Column      Non-Null Count  Dtype  \n",
            "---  ------      --------------  -----  \n",
            " 0   Unnamed: 0  200 non-null    int64  \n",
            " 1   TV          200 non-null    float64\n",
            " 2   Radio       200 non-null    float64\n",
            " 3   Newspaper   200 non-null    float64\n",
            " 4   Sales       200 non-null    float64\n",
            "dtypes: float64(4), int64(1)\n",
            "memory usage: 7.9 KB\n"
          ]
        }
      ],
      "source": [
        "data.info()"
      ]
    },
    {
      "cell_type": "markdown",
      "id": "12284bfd",
      "metadata": {
        "id": "12284bfd"
      },
      "source": [
        "# Exploratory Data Analysis"
      ]
    },
    {
      "cell_type": "code",
      "execution_count": null,
      "id": "798cfeae",
      "metadata": {
        "id": "798cfeae",
        "outputId": "e3d2643f-7141-4934-ffb3-782dc8dc8d05"
      },
      "outputs": [
        {
          "data": {
            "text/html": [
              "<div>\n",
              "<style scoped>\n",
              "    .dataframe tbody tr th:only-of-type {\n",
              "        vertical-align: middle;\n",
              "    }\n",
              "\n",
              "    .dataframe tbody tr th {\n",
              "        vertical-align: top;\n",
              "    }\n",
              "\n",
              "    .dataframe thead th {\n",
              "        text-align: right;\n",
              "    }\n",
              "</style>\n",
              "<table border=\"1\" class=\"dataframe\">\n",
              "  <thead>\n",
              "    <tr style=\"text-align: right;\">\n",
              "      <th></th>\n",
              "      <th>Unnamed: 0</th>\n",
              "      <th>TV</th>\n",
              "      <th>Radio</th>\n",
              "      <th>Newspaper</th>\n",
              "      <th>Sales</th>\n",
              "    </tr>\n",
              "  </thead>\n",
              "  <tbody>\n",
              "    <tr>\n",
              "      <th>0</th>\n",
              "      <td>1</td>\n",
              "      <td>230.1</td>\n",
              "      <td>37.8</td>\n",
              "      <td>69.2</td>\n",
              "      <td>22.1</td>\n",
              "    </tr>\n",
              "    <tr>\n",
              "      <th>1</th>\n",
              "      <td>2</td>\n",
              "      <td>44.5</td>\n",
              "      <td>39.3</td>\n",
              "      <td>45.1</td>\n",
              "      <td>10.4</td>\n",
              "    </tr>\n",
              "    <tr>\n",
              "      <th>2</th>\n",
              "      <td>3</td>\n",
              "      <td>17.2</td>\n",
              "      <td>45.9</td>\n",
              "      <td>69.3</td>\n",
              "      <td>9.3</td>\n",
              "    </tr>\n",
              "    <tr>\n",
              "      <th>3</th>\n",
              "      <td>4</td>\n",
              "      <td>151.5</td>\n",
              "      <td>41.3</td>\n",
              "      <td>58.5</td>\n",
              "      <td>18.5</td>\n",
              "    </tr>\n",
              "    <tr>\n",
              "      <th>4</th>\n",
              "      <td>5</td>\n",
              "      <td>180.8</td>\n",
              "      <td>10.8</td>\n",
              "      <td>58.4</td>\n",
              "      <td>12.9</td>\n",
              "    </tr>\n",
              "  </tbody>\n",
              "</table>\n",
              "</div>"
            ],
            "text/plain": [
              "   Unnamed: 0     TV  Radio  Newspaper  Sales\n",
              "0           1  230.1   37.8       69.2   22.1\n",
              "1           2   44.5   39.3       45.1   10.4\n",
              "2           3   17.2   45.9       69.3    9.3\n",
              "3           4  151.5   41.3       58.5   18.5\n",
              "4           5  180.8   10.8       58.4   12.9"
            ]
          },
          "execution_count": 8,
          "metadata": {},
          "output_type": "execute_result"
        }
      ],
      "source": [
        "data.head()"
      ]
    },
    {
      "cell_type": "markdown",
      "id": "65f356b5",
      "metadata": {
        "id": "65f356b5"
      },
      "source": [
        "#### Step 1 : Univariate analysis"
      ]
    },
    {
      "cell_type": "code",
      "execution_count": null,
      "id": "be6138c0",
      "metadata": {
        "id": "be6138c0",
        "outputId": "07c80998-7c61-48a9-8e64-4f45dd9f7431"
      },
      "outputs": [
        {
          "data": {
            "image/png": "[encoded data removed]",
            "text/plain": [
              "<Figure size 360x360 with 1 Axes>"
            ]
          },
          "metadata": {
            "needs_background": "light"
          },
          "output_type": "display_data"
        }
      ],
      "source": [
        "#Analyzing TV\n",
        "sns.displot(x=data.TV,kde=True)\n",
        "plt.show()"
      ]
    },
    {
      "cell_type": "code",
      "execution_count": null,
      "id": "c12c0263",
      "metadata": {
        "id": "c12c0263",
        "outputId": "e92519ff-ba8d-401f-cd06-80c23af7f819"
      },
      "outputs": [
        {
          "data": {
            "image/png": "[encoded data removed]",
            "text/plain": [
              "<Figure size 432x288 with 1 Axes>"
            ]
          },
          "metadata": {
            "needs_background": "light"
          },
          "output_type": "display_data"
        }
      ],
      "source": [
        "#Analyzing Radio\n",
        "sns.histplot(x=data.Radio,kde=True)\n",
        "plt.show()"
      ]
    },
    {
      "cell_type": "code",
      "execution_count": null,
      "id": "c40e3082",
      "metadata": {
        "id": "c40e3082",
        "outputId": "5a4cead9-d838-43eb-b8bc-187cbae178f7"
      },
      "outputs": [
        {
          "data": {
            "image/png": "[encoded data removed]",
            "text/plain": [
              "<Figure size 432x288 with 1 Axes>"
            ]
          },
          "metadata": {
            "needs_background": "light"
          },
          "output_type": "display_data"
        }
      ],
      "source": [
        "#Analyzing Newspaper\n",
        "sns.histplot(x=data.Newspaper,kde=True)\n",
        "plt.show()\n",
        "# We can conclude from the below plot that there are less than 10 months when the marketing cost was high"
      ]
    },
    {
      "cell_type": "markdown",
      "id": "8ae57c0e",
      "metadata": {
        "id": "8ae57c0e"
      },
      "source": [
        "#### Step 2 : Bivariate Analysis"
      ]
    },
    {
      "cell_type": "code",
      "execution_count": null,
      "id": "743d6423",
      "metadata": {
        "id": "743d6423",
        "outputId": "f90df223-a2d5-4268-c0dc-c8fe5cea8f0b"
      },
      "outputs": [
        {
          "data": {
            "image/png": "[encoded data removed]",
            "text/plain": [
              "<Figure size 360x360 with 1 Axes>"
            ]
          },
          "metadata": {
            "needs_background": "light"
          },
          "output_type": "display_data"
        }
      ],
      "source": [
        "#Analyzing TV and sales\n",
        "sns.relplot(x='TV',y='Sales',data=data)\n",
        "plt.show()\n",
        "#More marketing on TV is leading to more sales of the product"
      ]
    },
    {
      "cell_type": "code",
      "execution_count": null,
      "id": "da606bf9",
      "metadata": {
        "id": "da606bf9",
        "outputId": "9e456582-f9ba-4262-c94f-ce99aae7b0ad"
      },
      "outputs": [
        {
          "data": {
            "image/png": "[encoded data removed]",
            "text/plain": [
              "<Figure size 360x360 with 1 Axes>"
            ]
          },
          "metadata": {
            "needs_background": "light"
          },
          "output_type": "display_data"
        }
      ],
      "source": [
        "#Analyzing Radio and sales\n",
        "sns.relplot(x='Radio',y='Sales',data=data)\n",
        "plt.show()\n",
        "#Radio advertising are not showing much trend for the sales of the product"
      ]
    },
    {
      "cell_type": "code",
      "execution_count": null,
      "id": "a6cd9e6c",
      "metadata": {
        "id": "a6cd9e6c",
        "outputId": "0657900d-59e5-4ec5-cebc-55c318b94b44"
      },
      "outputs": [
        {
          "data": {
            "image/png": "[encoded data removed]",
            "text/plain": [
              "<Figure size 360x360 with 1 Axes>"
            ]
          },
          "metadata": {
            "needs_background": "light"
          },
          "output_type": "display_data"
        }
      ],
      "source": [
        "#Analyzing Newspaper and sales\n",
        "sns.relplot(x='Newspaper',y='Sales',data=data)\n",
        "plt.show()\n",
        "#Newspaper advertising are not showing much trend for the sales of the product"
      ]
    },
    {
      "cell_type": "markdown",
      "id": "109a8c24",
      "metadata": {
        "id": "109a8c24"
      },
      "source": [
        "#### Step 3 : Multivariate Analysis"
      ]
    },
    {
      "cell_type": "code",
      "execution_count": null,
      "id": "1fc6928c",
      "metadata": {
        "scrolled": true,
        "id": "1fc6928c",
        "outputId": "9b99dca3-4b13-409c-8540-18fd427df07a"
      },
      "outputs": [
        {
          "data": {
            "image/png": "[encoded data removed]",
            "text/plain": [
              "<Figure size 900x900 with 30 Axes>"
            ]
          },
          "metadata": {
            "needs_background": "light"
          },
          "output_type": "display_data"
        }
      ],
      "source": [
        "sns.pairplot(data)\n",
        "plt.show()"
      ]
    },
    {
      "cell_type": "markdown",
      "id": "da8edee4",
      "metadata": {
        "id": "da8edee4"
      },
      "source": [
        "# Data Preprocessing and Feature Engineering"
      ]
    },
    {
      "cell_type": "code",
      "execution_count": null,
      "id": "a80c8cb8",
      "metadata": {
        "id": "a80c8cb8",
        "outputId": "ac8842ce-6d03-4327-8dc9-c883cf25c575"
      },
      "outputs": [
        {
          "data": {
            "text/plain": [
              "Unnamed: 0    0\n",
              "TV            0\n",
              "Radio         0\n",
              "Newspaper     0\n",
              "Sales         0\n",
              "dtype: int64"
            ]
          },
          "execution_count": 16,
          "metadata": {},
          "output_type": "execute_result"
        }
      ],
      "source": [
        "# Finding missing values\n",
        "data.isnull().sum()"
      ]
    },
    {
      "cell_type": "code",
      "execution_count": null,
      "id": "2bb79688",
      "metadata": {
        "id": "2bb79688",
        "outputId": "f68dec56-c0e4-4c65-eaaa-53a6d3e822d4"
      },
      "outputs": [
        {
          "data": {
            "text/plain": [
              "<AxesSubplot: xlabel='TV'>"
            ]
          },
          "execution_count": 17,
          "metadata": {},
          "output_type": "execute_result"
        },
        {
          "data": {
            "image/png": "[encoded data removed]",
            "text/plain": [
              "<Figure size 432x288 with 1 Axes>"
            ]
          },
          "metadata": {
            "needs_background": "light"
          },
          "output_type": "display_data"
        }
      ],
      "source": [
        "# Checking the outlier\n",
        "sns.boxplot(x='TV',data=data)"
      ]
    },
    {
      "cell_type": "code",
      "execution_count": null,
      "id": "d49797ad",
      "metadata": {
        "id": "d49797ad",
        "outputId": "be9c04fa-2125-42ce-e2d3-cbcfe23d3c84"
      },
      "outputs": [
        {
          "data": {
            "text/plain": [
              "<AxesSubplot: xlabel='Radio'>"
            ]
          },
          "execution_count": 18,
          "metadata": {},
          "output_type": "execute_result"
        },
        {
          "data": {
            "image/png": "[encoded data removed]",
            "text/plain": [
              "<Figure size 432x288 with 1 Axes>"
            ]
          },
          "metadata": {
            "needs_background": "light"
          },
          "output_type": "display_data"
        }
      ],
      "source": [
        "sns.boxplot(x='Radio',data=data)"
      ]
    },
    {
      "cell_type": "code",
      "execution_count": null,
      "id": "c28023ba",
      "metadata": {
        "id": "c28023ba",
        "outputId": "a62b1abd-4d70-4091-d929-a033595387ed"
      },
      "outputs": [
        {
          "data": {
            "text/plain": [
              "<AxesSubplot: xlabel='Newspaper'>"
            ]
          },
          "execution_count": 19,
          "metadata": {},
          "output_type": "execute_result"
        },
        {
          "data": {
            "image/png": "[encoded data removed]",
            "text/plain": [
              "<Figure size 432x288 with 1 Axes>"
            ]
          },
          "metadata": {
            "needs_background": "light"
          },
          "output_type": "display_data"
        }
      ],
      "source": [
        "sns.boxplot(x='Newspaper',data=data)"
      ]
    },
    {
      "cell_type": "markdown",
      "id": "e33d896c",
      "metadata": {
        "id": "e33d896c"
      },
      "source": [
        "#### Insight\n",
        "There are outliers in newspaper"
      ]
    },
    {
      "cell_type": "markdown",
      "id": "3a87980f",
      "metadata": {
        "id": "3a87980f"
      },
      "source": [
        "#### Handling Outliers"
      ]
    },
    {
      "cell_type": "code",
      "execution_count": null,
      "id": "de111f68",
      "metadata": {
        "id": "de111f68",
        "outputId": "146ab6cd-504b-40b0-e31b-38a43d798b60"
      },
      "outputs": [
        {
          "data": {
            "text/plain": [
              "32.400000000000006"
            ]
          },
          "execution_count": 20,
          "metadata": {},
          "output_type": "execute_result"
        }
      ],
      "source": [
        "from scipy import stats\n",
        "IQR = stats.iqr(data['Newspaper'],interpolation='midpoint')\n",
        "IQR"
      ]
    },
    {
      "cell_type": "code",
      "execution_count": null,
      "id": "13d480dd",
      "metadata": {
        "id": "13d480dd"
      },
      "outputs": [],
      "source": [
        "Q1 = data['Newspaper'].quantile(0.25)\n",
        "Q3 = data['Newspaper'].quantile(0.75)\n",
        "min_limit = Q1 - 1.5*IQR\n",
        "max_limit = Q3 +1.5*IQR"
      ]
    },
    {
      "cell_type": "code",
      "execution_count": null,
      "id": "ad273661",
      "metadata": {
        "id": "ad273661",
        "outputId": "e55261b8-64bf-4508-96eb-3ea8d9887255"
      },
      "outputs": [
        {
          "name": "stdout",
          "output_type": "stream",
          "text": [
            "min_limit :  -35.85000000000001\n",
            "max_limit :  93.70000000000002\n"
          ]
        }
      ],
      "source": [
        "print('min_limit : ',min_limit)\n",
        "print('max_limit : ',max_limit)"
      ]
    },
    {
      "cell_type": "code",
      "execution_count": null,
      "id": "011b02b9",
      "metadata": {
        "id": "011b02b9",
        "outputId": "5e5c38cd-d07a-4b69-cdf9-8b19d0df40cc"
      },
      "outputs": [
        {
          "data": {
            "text/plain": [
              "2"
            ]
          },
          "execution_count": 23,
          "metadata": {},
          "output_type": "execute_result"
        }
      ],
      "source": [
        "len(data.loc[data['Newspaper'] > max_limit])"
      ]
    },
    {
      "cell_type": "code",
      "execution_count": null,
      "id": "96882407",
      "metadata": {
        "id": "96882407"
      },
      "outputs": [],
      "source": [
        "data.loc[data['Newspaper'] > max_limit,'Newspaper'] = np.median(data['Newspaper'])"
      ]
    },
    {
      "cell_type": "code",
      "execution_count": null,
      "id": "2b569abe",
      "metadata": {
        "scrolled": true,
        "id": "2b569abe",
        "outputId": "c06bb228-e788-4d5b-d9f8-31cb20ba807b"
      },
      "outputs": [
        {
          "data": {
            "text/plain": [
              "<AxesSubplot: xlabel='Newspaper'>"
            ]
          },
          "execution_count": 25,
          "metadata": {},
          "output_type": "execute_result"
        },
        {
          "data": {
            "image/png": "[encoded data removed]",
            "text/plain": [
              "<Figure size 432x288 with 1 Axes>"
            ]
          },
          "metadata": {
            "needs_background": "light"
          },
          "output_type": "display_data"
        }
      ],
      "source": [
        "sns.boxplot(x='Newspaper',data=data)"
      ]
    },
    {
      "cell_type": "markdown",
      "id": "5266d79b",
      "metadata": {
        "id": "5266d79b"
      },
      "source": [
        "### Scaling"
      ]
    },
    {
      "cell_type": "code",
      "execution_count": null,
      "id": "8f66bc85",
      "metadata": {
        "id": "8f66bc85"
      },
      "outputs": [],
      "source": [
        "from sklearn.preprocessing import MinMaxScaler\n",
        "mn = MinMaxScaler()                                \n",
        "data[['TV','Radio','Newspaper']]=mn.fit_transform(data[['TV','Radio','Newspaper']])"
      ]
    },
    {
      "cell_type": "code",
      "execution_count": null,
      "id": "8af64b29",
      "metadata": {
        "scrolled": true,
        "id": "8af64b29",
        "outputId": "f0e4dbfe-de92-43f6-c931-0335bb5610a3"
      },
      "outputs": [
        {
          "data": {
            "text/html": [
              "<div>\n",
              "<style scoped>\n",
              "    .dataframe tbody tr th:only-of-type {\n",
              "        vertical-align: middle;\n",
              "    }\n",
              "\n",
              "    .dataframe tbody tr th {\n",
              "        vertical-align: top;\n",
              "    }\n",
              "\n",
              "    .dataframe thead th {\n",
              "        text-align: right;\n",
              "    }\n",
              "</style>\n",
              "<table border=\"1\" class=\"dataframe\">\n",
              "  <thead>\n",
              "    <tr style=\"text-align: right;\">\n",
              "      <th></th>\n",
              "      <th>Unnamed: 0</th>\n",
              "      <th>TV</th>\n",
              "      <th>Radio</th>\n",
              "      <th>Newspaper</th>\n",
              "      <th>Sales</th>\n",
              "    </tr>\n",
              "  </thead>\n",
              "  <tbody>\n",
              "    <tr>\n",
              "      <th>0</th>\n",
              "      <td>1</td>\n",
              "      <td>0.775786</td>\n",
              "      <td>0.762097</td>\n",
              "      <td>0.773288</td>\n",
              "      <td>22.1</td>\n",
              "    </tr>\n",
              "    <tr>\n",
              "      <th>1</th>\n",
              "      <td>2</td>\n",
              "      <td>0.148123</td>\n",
              "      <td>0.792339</td>\n",
              "      <td>0.502806</td>\n",
              "      <td>10.4</td>\n",
              "    </tr>\n",
              "    <tr>\n",
              "      <th>2</th>\n",
              "      <td>3</td>\n",
              "      <td>0.055800</td>\n",
              "      <td>0.925403</td>\n",
              "      <td>0.774411</td>\n",
              "      <td>9.3</td>\n",
              "    </tr>\n",
              "    <tr>\n",
              "      <th>3</th>\n",
              "      <td>4</td>\n",
              "      <td>0.509976</td>\n",
              "      <td>0.832661</td>\n",
              "      <td>0.653199</td>\n",
              "      <td>18.5</td>\n",
              "    </tr>\n",
              "    <tr>\n",
              "      <th>4</th>\n",
              "      <td>5</td>\n",
              "      <td>0.609063</td>\n",
              "      <td>0.217742</td>\n",
              "      <td>0.652076</td>\n",
              "      <td>12.9</td>\n",
              "    </tr>\n",
              "    <tr>\n",
              "      <th>...</th>\n",
              "      <td>...</td>\n",
              "      <td>...</td>\n",
              "      <td>...</td>\n",
              "      <td>...</td>\n",
              "      <td>...</td>\n",
              "    </tr>\n",
              "    <tr>\n",
              "      <th>195</th>\n",
              "      <td>196</td>\n",
              "      <td>0.126818</td>\n",
              "      <td>0.074597</td>\n",
              "      <td>0.151515</td>\n",
              "      <td>7.6</td>\n",
              "    </tr>\n",
              "    <tr>\n",
              "      <th>196</th>\n",
              "      <td>197</td>\n",
              "      <td>0.316199</td>\n",
              "      <td>0.098790</td>\n",
              "      <td>0.087542</td>\n",
              "      <td>9.7</td>\n",
              "    </tr>\n",
              "    <tr>\n",
              "      <th>197</th>\n",
              "      <td>198</td>\n",
              "      <td>0.596212</td>\n",
              "      <td>0.187500</td>\n",
              "      <td>0.068462</td>\n",
              "      <td>12.8</td>\n",
              "    </tr>\n",
              "    <tr>\n",
              "      <th>198</th>\n",
              "      <td>199</td>\n",
              "      <td>0.956713</td>\n",
              "      <td>0.846774</td>\n",
              "      <td>0.739618</td>\n",
              "      <td>25.5</td>\n",
              "    </tr>\n",
              "    <tr>\n",
              "      <th>199</th>\n",
              "      <td>200</td>\n",
              "      <td>0.782550</td>\n",
              "      <td>0.173387</td>\n",
              "      <td>0.094276</td>\n",
              "      <td>13.4</td>\n",
              "    </tr>\n",
              "  </tbody>\n",
              "</table>\n",
              "<p>200 rows × 5 columns</p>\n",
              "</div>"
            ],
            "text/plain": [
              "     Unnamed: 0        TV     Radio  Newspaper  Sales\n",
              "0             1  0.775786  0.762097   0.773288   22.1\n",
              "1             2  0.148123  0.792339   0.502806   10.4\n",
              "2             3  0.055800  0.925403   0.774411    9.3\n",
              "3             4  0.509976  0.832661   0.653199   18.5\n",
              "4             5  0.609063  0.217742   0.652076   12.9\n",
              "..          ...       ...       ...        ...    ...\n",
              "195         196  0.126818  0.074597   0.151515    7.6\n",
              "196         197  0.316199  0.098790   0.087542    9.7\n",
              "197         198  0.596212  0.187500   0.068462   12.8\n",
              "198         199  0.956713  0.846774   0.739618   25.5\n",
              "199         200  0.782550  0.173387   0.094276   13.4\n",
              "\n",
              "[200 rows x 5 columns]"
            ]
          },
          "execution_count": 27,
          "metadata": {},
          "output_type": "execute_result"
        }
      ],
      "source": [
        "data"
      ]
    },
    {
      "cell_type": "markdown",
      "id": "b04060e9",
      "metadata": {
        "id": "b04060e9"
      },
      "source": [
        "# Feature Selection"
      ]
    },
    {
      "cell_type": "code",
      "execution_count": null,
      "id": "35b12d58",
      "metadata": {
        "id": "35b12d58",
        "outputId": "e75dbc37-126e-427a-a30a-bdd84c6b74bc"
      },
      "outputs": [
        {
          "data": {
            "text/html": [
              "<div>\n",
              "<style scoped>\n",
              "    .dataframe tbody tr th:only-of-type {\n",
              "        vertical-align: middle;\n",
              "    }\n",
              "\n",
              "    .dataframe tbody tr th {\n",
              "        vertical-align: top;\n",
              "    }\n",
              "\n",
              "    .dataframe thead th {\n",
              "        text-align: right;\n",
              "    }\n",
              "</style>\n",
              "<table border=\"1\" class=\"dataframe\">\n",
              "  <thead>\n",
              "    <tr style=\"text-align: right;\">\n",
              "      <th></th>\n",
              "      <th>Unnamed: 0</th>\n",
              "      <th>TV</th>\n",
              "      <th>Radio</th>\n",
              "      <th>Newspaper</th>\n",
              "      <th>Sales</th>\n",
              "    </tr>\n",
              "  </thead>\n",
              "  <tbody>\n",
              "    <tr>\n",
              "      <th>count</th>\n",
              "      <td>200.000000</td>\n",
              "      <td>200.000000</td>\n",
              "      <td>200.000000</td>\n",
              "      <td>200.000000</td>\n",
              "      <td>200.000000</td>\n",
              "    </tr>\n",
              "    <tr>\n",
              "      <th>mean</th>\n",
              "      <td>100.500000</td>\n",
              "      <td>0.494902</td>\n",
              "      <td>0.469032</td>\n",
              "      <td>0.330382</td>\n",
              "      <td>14.022500</td>\n",
              "    </tr>\n",
              "    <tr>\n",
              "      <th>std</th>\n",
              "      <td>57.879185</td>\n",
              "      <td>0.290342</td>\n",
              "      <td>0.299331</td>\n",
              "      <td>0.228364</td>\n",
              "      <td>5.217457</td>\n",
              "    </tr>\n",
              "    <tr>\n",
              "      <th>min</th>\n",
              "      <td>1.000000</td>\n",
              "      <td>0.000000</td>\n",
              "      <td>0.000000</td>\n",
              "      <td>0.000000</td>\n",
              "      <td>1.600000</td>\n",
              "    </tr>\n",
              "    <tr>\n",
              "      <th>25%</th>\n",
              "      <td>50.750000</td>\n",
              "      <td>0.249155</td>\n",
              "      <td>0.201109</td>\n",
              "      <td>0.139731</td>\n",
              "      <td>10.375000</td>\n",
              "    </tr>\n",
              "    <tr>\n",
              "      <th>50%</th>\n",
              "      <td>100.500000</td>\n",
              "      <td>0.504058</td>\n",
              "      <td>0.461694</td>\n",
              "      <td>0.284792</td>\n",
              "      <td>12.900000</td>\n",
              "    </tr>\n",
              "    <tr>\n",
              "      <th>75%</th>\n",
              "      <td>150.250000</td>\n",
              "      <td>0.737656</td>\n",
              "      <td>0.736391</td>\n",
              "      <td>0.485410</td>\n",
              "      <td>17.400000</td>\n",
              "    </tr>\n",
              "    <tr>\n",
              "      <th>max</th>\n",
              "      <td>200.000000</td>\n",
              "      <td>1.000000</td>\n",
              "      <td>1.000000</td>\n",
              "      <td>1.000000</td>\n",
              "      <td>27.000000</td>\n",
              "    </tr>\n",
              "  </tbody>\n",
              "</table>\n",
              "</div>"
            ],
            "text/plain": [
              "       Unnamed: 0          TV       Radio   Newspaper       Sales\n",
              "count  200.000000  200.000000  200.000000  200.000000  200.000000\n",
              "mean   100.500000    0.494902    0.469032    0.330382   14.022500\n",
              "std     57.879185    0.290342    0.299331    0.228364    5.217457\n",
              "min      1.000000    0.000000    0.000000    0.000000    1.600000\n",
              "25%     50.750000    0.249155    0.201109    0.139731   10.375000\n",
              "50%    100.500000    0.504058    0.461694    0.284792   12.900000\n",
              "75%    150.250000    0.737656    0.736391    0.485410   17.400000\n",
              "max    200.000000    1.000000    1.000000    1.000000   27.000000"
            ]
          },
          "execution_count": 28,
          "metadata": {},
          "output_type": "execute_result"
        }
      ],
      "source": [
        "data.describe()"
      ]
    },
    {
      "cell_type": "code",
      "execution_count": null,
      "id": "4fb5864d",
      "metadata": {
        "id": "4fb5864d"
      },
      "outputs": [],
      "source": [
        "# Step 1 : Dropping the unwanted variables\n",
        "l1=['Unnamed: 0']\n",
        "data.drop(l1,axis=1,inplace=True)"
      ]
    },
    {
      "cell_type": "code",
      "execution_count": null,
      "id": "1fae92b8",
      "metadata": {
        "id": "1fae92b8",
        "outputId": "ee6def4d-5401-4725-c63a-027edbd98295"
      },
      "outputs": [
        {
          "data": {
            "text/html": [
              "<div>\n",
              "<style scoped>\n",
              "    .dataframe tbody tr th:only-of-type {\n",
              "        vertical-align: middle;\n",
              "    }\n",
              "\n",
              "    .dataframe tbody tr th {\n",
              "        vertical-align: top;\n",
              "    }\n",
              "\n",
              "    .dataframe thead th {\n",
              "        text-align: right;\n",
              "    }\n",
              "</style>\n",
              "<table border=\"1\" class=\"dataframe\">\n",
              "  <thead>\n",
              "    <tr style=\"text-align: right;\">\n",
              "      <th></th>\n",
              "      <th>TV</th>\n",
              "      <th>Radio</th>\n",
              "      <th>Newspaper</th>\n",
              "      <th>Sales</th>\n",
              "    </tr>\n",
              "  </thead>\n",
              "  <tbody>\n",
              "    <tr>\n",
              "      <th>0</th>\n",
              "      <td>0.775786</td>\n",
              "      <td>0.762097</td>\n",
              "      <td>0.773288</td>\n",
              "      <td>22.1</td>\n",
              "    </tr>\n",
              "    <tr>\n",
              "      <th>1</th>\n",
              "      <td>0.148123</td>\n",
              "      <td>0.792339</td>\n",
              "      <td>0.502806</td>\n",
              "      <td>10.4</td>\n",
              "    </tr>\n",
              "    <tr>\n",
              "      <th>2</th>\n",
              "      <td>0.055800</td>\n",
              "      <td>0.925403</td>\n",
              "      <td>0.774411</td>\n",
              "      <td>9.3</td>\n",
              "    </tr>\n",
              "    <tr>\n",
              "      <th>3</th>\n",
              "      <td>0.509976</td>\n",
              "      <td>0.832661</td>\n",
              "      <td>0.653199</td>\n",
              "      <td>18.5</td>\n",
              "    </tr>\n",
              "    <tr>\n",
              "      <th>4</th>\n",
              "      <td>0.609063</td>\n",
              "      <td>0.217742</td>\n",
              "      <td>0.652076</td>\n",
              "      <td>12.9</td>\n",
              "    </tr>\n",
              "  </tbody>\n",
              "</table>\n",
              "</div>"
            ],
            "text/plain": [
              "         TV     Radio  Newspaper  Sales\n",
              "0  0.775786  0.762097   0.773288   22.1\n",
              "1  0.148123  0.792339   0.502806   10.4\n",
              "2  0.055800  0.925403   0.774411    9.3\n",
              "3  0.509976  0.832661   0.653199   18.5\n",
              "4  0.609063  0.217742   0.652076   12.9"
            ]
          },
          "execution_count": 30,
          "metadata": {},
          "output_type": "execute_result"
        }
      ],
      "source": [
        "data.head()"
      ]
    },
    {
      "cell_type": "code",
      "execution_count": null,
      "id": "8d65a03b",
      "metadata": {
        "id": "8d65a03b",
        "outputId": "a8fc5c40-9cc7-45ee-aed5-753a8d3eaaa6"
      },
      "outputs": [
        {
          "data": {
            "image/png": "[encoded data removed]",
            "text/plain": [
              "<Figure size 432x288 with 2 Axes>"
            ]
          },
          "metadata": {
            "needs_background": "light"
          },
          "output_type": "display_data"
        }
      ],
      "source": [
        "# Step 2 : Checking the correlation \n",
        "sns.heatmap(data.drop('Sales',axis=1).corr(),annot=True)\n",
        "plt.show()"
      ]
    },
    {
      "cell_type": "markdown",
      "id": "e3efd79a",
      "metadata": {
        "id": "e3efd79a"
      },
      "source": [
        "# Model Creation"
      ]
    },
    {
      "cell_type": "code",
      "execution_count": null,
      "id": "9ee23bf6",
      "metadata": {
        "id": "9ee23bf6"
      },
      "outputs": [],
      "source": [
        "# Step 1 : Variable creation\n",
        "X=data[['TV','Radio','Newspaper']]\n",
        "y=data.Sales "
      ]
    },
    {
      "cell_type": "code",
      "execution_count": null,
      "id": "1bff4fcd",
      "metadata": {
        "id": "1bff4fcd",
        "outputId": "e2ae7869-3276-44db-dea0-5d8ccf9b794f"
      },
      "outputs": [
        {
          "data": {
            "text/html": [
              "<div>\n",
              "<style scoped>\n",
              "    .dataframe tbody tr th:only-of-type {\n",
              "        vertical-align: middle;\n",
              "    }\n",
              "\n",
              "    .dataframe tbody tr th {\n",
              "        vertical-align: top;\n",
              "    }\n",
              "\n",
              "    .dataframe thead th {\n",
              "        text-align: right;\n",
              "    }\n",
              "</style>\n",
              "<table border=\"1\" class=\"dataframe\">\n",
              "  <thead>\n",
              "    <tr style=\"text-align: right;\">\n",
              "      <th></th>\n",
              "      <th>TV</th>\n",
              "      <th>Radio</th>\n",
              "      <th>Newspaper</th>\n",
              "    </tr>\n",
              "  </thead>\n",
              "  <tbody>\n",
              "    <tr>\n",
              "      <th>0</th>\n",
              "      <td>0.775786</td>\n",
              "      <td>0.762097</td>\n",
              "      <td>0.773288</td>\n",
              "    </tr>\n",
              "    <tr>\n",
              "      <th>1</th>\n",
              "      <td>0.148123</td>\n",
              "      <td>0.792339</td>\n",
              "      <td>0.502806</td>\n",
              "    </tr>\n",
              "    <tr>\n",
              "      <th>2</th>\n",
              "      <td>0.055800</td>\n",
              "      <td>0.925403</td>\n",
              "      <td>0.774411</td>\n",
              "    </tr>\n",
              "    <tr>\n",
              "      <th>3</th>\n",
              "      <td>0.509976</td>\n",
              "      <td>0.832661</td>\n",
              "      <td>0.653199</td>\n",
              "    </tr>\n",
              "    <tr>\n",
              "      <th>4</th>\n",
              "      <td>0.609063</td>\n",
              "      <td>0.217742</td>\n",
              "      <td>0.652076</td>\n",
              "    </tr>\n",
              "    <tr>\n",
              "      <th>...</th>\n",
              "      <td>...</td>\n",
              "      <td>...</td>\n",
              "      <td>...</td>\n",
              "    </tr>\n",
              "    <tr>\n",
              "      <th>195</th>\n",
              "      <td>0.126818</td>\n",
              "      <td>0.074597</td>\n",
              "      <td>0.151515</td>\n",
              "    </tr>\n",
              "    <tr>\n",
              "      <th>196</th>\n",
              "      <td>0.316199</td>\n",
              "      <td>0.098790</td>\n",
              "      <td>0.087542</td>\n",
              "    </tr>\n",
              "    <tr>\n",
              "      <th>197</th>\n",
              "      <td>0.596212</td>\n",
              "      <td>0.187500</td>\n",
              "      <td>0.068462</td>\n",
              "    </tr>\n",
              "    <tr>\n",
              "      <th>198</th>\n",
              "      <td>0.956713</td>\n",
              "      <td>0.846774</td>\n",
              "      <td>0.739618</td>\n",
              "    </tr>\n",
              "    <tr>\n",
              "      <th>199</th>\n",
              "      <td>0.782550</td>\n",
              "      <td>0.173387</td>\n",
              "      <td>0.094276</td>\n",
              "    </tr>\n",
              "  </tbody>\n",
              "</table>\n",
              "<p>200 rows × 3 columns</p>\n",
              "</div>"
            ],
            "text/plain": [
              "           TV     Radio  Newspaper\n",
              "0    0.775786  0.762097   0.773288\n",
              "1    0.148123  0.792339   0.502806\n",
              "2    0.055800  0.925403   0.774411\n",
              "3    0.509976  0.832661   0.653199\n",
              "4    0.609063  0.217742   0.652076\n",
              "..        ...       ...        ...\n",
              "195  0.126818  0.074597   0.151515\n",
              "196  0.316199  0.098790   0.087542\n",
              "197  0.596212  0.187500   0.068462\n",
              "198  0.956713  0.846774   0.739618\n",
              "199  0.782550  0.173387   0.094276\n",
              "\n",
              "[200 rows x 3 columns]"
            ]
          },
          "execution_count": 33,
          "metadata": {},
          "output_type": "execute_result"
        }
      ],
      "source": [
        "X"
      ]
    },
    {
      "cell_type": "code",
      "execution_count": null,
      "id": "4090b372",
      "metadata": {
        "id": "4090b372",
        "outputId": "63bc19c1-2fa3-4fa3-b073-97cf668426f2"
      },
      "outputs": [
        {
          "data": {
            "text/plain": [
              "0      22.1\n",
              "1      10.4\n",
              "2       9.3\n",
              "3      18.5\n",
              "4      12.9\n",
              "       ... \n",
              "195     7.6\n",
              "196     9.7\n",
              "197    12.8\n",
              "198    25.5\n",
              "199    13.4\n",
              "Name: Sales, Length: 200, dtype: float64"
            ]
          },
          "execution_count": 34,
          "metadata": {},
          "output_type": "execute_result"
        }
      ],
      "source": [
        "y"
      ]
    },
    {
      "cell_type": "code",
      "execution_count": null,
      "id": "a5558a93",
      "metadata": {
        "id": "a5558a93"
      },
      "outputs": [],
      "source": [
        "# Step 2 : Training and Testing data creation\n",
        "from sklearn.model_selection import train_test_split\n",
        "X_train,X_test,y_train,y_test=train_test_split(X,y,test_size=0.2,random_state=4)"
      ]
    },
    {
      "cell_type": "code",
      "execution_count": null,
      "id": "c5a8cb60",
      "metadata": {
        "id": "c5a8cb60",
        "outputId": "ea04aed3-1e1c-4098-d70c-035c60b52b65"
      },
      "outputs": [
        {
          "data": {
            "text/html": [
              "<div>\n",
              "<style scoped>\n",
              "    .dataframe tbody tr th:only-of-type {\n",
              "        vertical-align: middle;\n",
              "    }\n",
              "\n",
              "    .dataframe tbody tr th {\n",
              "        vertical-align: top;\n",
              "    }\n",
              "\n",
              "    .dataframe thead th {\n",
              "        text-align: right;\n",
              "    }\n",
              "</style>\n",
              "<table border=\"1\" class=\"dataframe\">\n",
              "  <thead>\n",
              "    <tr style=\"text-align: right;\">\n",
              "      <th></th>\n",
              "      <th>TV</th>\n",
              "      <th>Radio</th>\n",
              "      <th>Newspaper</th>\n",
              "    </tr>\n",
              "  </thead>\n",
              "  <tbody>\n",
              "    <tr>\n",
              "      <th>26</th>\n",
              "      <td>0.480893</td>\n",
              "      <td>0.590726</td>\n",
              "      <td>0.138047</td>\n",
              "    </tr>\n",
              "    <tr>\n",
              "      <th>134</th>\n",
              "      <td>0.122421</td>\n",
              "      <td>0.778226</td>\n",
              "      <td>0.732884</td>\n",
              "    </tr>\n",
              "    <tr>\n",
              "      <th>180</th>\n",
              "      <td>0.527224</td>\n",
              "      <td>0.052419</td>\n",
              "      <td>0.089787</td>\n",
              "    </tr>\n",
              "    <tr>\n",
              "      <th>158</th>\n",
              "      <td>0.037200</td>\n",
              "      <td>0.743952</td>\n",
              "      <td>0.503928</td>\n",
              "    </tr>\n",
              "    <tr>\n",
              "      <th>189</th>\n",
              "      <td>0.060873</td>\n",
              "      <td>0.243952</td>\n",
              "      <td>0.259259</td>\n",
              "    </tr>\n",
              "    <tr>\n",
              "      <th>...</th>\n",
              "      <td>...</td>\n",
              "      <td>...</td>\n",
              "      <td>...</td>\n",
              "    </tr>\n",
              "    <tr>\n",
              "      <th>104</th>\n",
              "      <td>0.803179</td>\n",
              "      <td>0.691532</td>\n",
              "      <td>0.056117</td>\n",
              "    </tr>\n",
              "    <tr>\n",
              "      <th>129</th>\n",
              "      <td>0.199188</td>\n",
              "      <td>0.241935</td>\n",
              "      <td>0.480359</td>\n",
              "    </tr>\n",
              "    <tr>\n",
              "      <th>183</th>\n",
              "      <td>0.970240</td>\n",
              "      <td>0.866935</td>\n",
              "      <td>0.802469</td>\n",
              "    </tr>\n",
              "    <tr>\n",
              "      <th>174</th>\n",
              "      <td>0.749746</td>\n",
              "      <td>0.068548</td>\n",
              "      <td>0.143659</td>\n",
              "    </tr>\n",
              "    <tr>\n",
              "      <th>122</th>\n",
              "      <td>0.755157</td>\n",
              "      <td>0.048387</td>\n",
              "      <td>0.171717</td>\n",
              "    </tr>\n",
              "  </tbody>\n",
              "</table>\n",
              "<p>160 rows × 3 columns</p>\n",
              "</div>"
            ],
            "text/plain": [
              "           TV     Radio  Newspaper\n",
              "26   0.480893  0.590726   0.138047\n",
              "134  0.122421  0.778226   0.732884\n",
              "180  0.527224  0.052419   0.089787\n",
              "158  0.037200  0.743952   0.503928\n",
              "189  0.060873  0.243952   0.259259\n",
              "..        ...       ...        ...\n",
              "104  0.803179  0.691532   0.056117\n",
              "129  0.199188  0.241935   0.480359\n",
              "183  0.970240  0.866935   0.802469\n",
              "174  0.749746  0.068548   0.143659\n",
              "122  0.755157  0.048387   0.171717\n",
              "\n",
              "[160 rows x 3 columns]"
            ]
          },
          "execution_count": 36,
          "metadata": {},
          "output_type": "execute_result"
        }
      ],
      "source": [
        "X_train"
      ]
    },
    {
      "cell_type": "code",
      "execution_count": null,
      "id": "bcdc7a1b",
      "metadata": {
        "id": "bcdc7a1b"
      },
      "outputs": [],
      "source": [
        "# Step 3 : Creating Model\n",
        "from sklearn.linear_model import LinearRegression\n",
        "LR=LinearRegression()   \n",
        "LR.fit(X_train,y_train) \n",
        "y_predict=LR.predict(X_test)"
      ]
    },
    {
      "cell_type": "code",
      "execution_count": null,
      "id": "b912006e",
      "metadata": {
        "scrolled": true,
        "id": "b912006e",
        "outputId": "01f99d94-68a9-417a-8506-036491a1bfca"
      },
      "outputs": [
        {
          "data": {
            "text/plain": [
              "11     17.4\n",
              "99     17.2\n",
              "128    24.7\n",
              "175    27.0\n",
              "1      10.4\n",
              "111    21.8\n",
              "90     11.2\n",
              "177    11.7\n",
              "88     12.9\n",
              "187    17.3\n",
              "61     24.2\n",
              "199    13.4\n",
              "191     9.9\n",
              "123    15.2\n",
              "184    17.6\n",
              "188    15.9\n",
              "33     17.4\n",
              "171    14.5\n",
              "138     9.6\n",
              "84     21.7\n",
              "81     12.3\n",
              "102    14.8\n",
              "147    25.4\n",
              "34      9.5\n",
              "47     23.2\n",
              "124    19.7\n",
              "112    14.1\n",
              "6      11.8\n",
              "14     19.0\n",
              "190    10.8\n",
              "80     11.8\n",
              "18     11.3\n",
              "167    12.2\n",
              "45     14.9\n",
              "153    19.0\n",
              "119     6.6\n",
              "100    11.7\n",
              "83     13.6\n",
              "181    12.2\n",
              "71     12.4\n",
              "Name: Sales, dtype: float64"
            ]
          },
          "execution_count": 38,
          "metadata": {},
          "output_type": "execute_result"
        }
      ],
      "source": [
        "y_test"
      ]
    },
    {
      "cell_type": "code",
      "execution_count": null,
      "id": "af88aa4e",
      "metadata": {
        "id": "af88aa4e",
        "outputId": "6663ad6b-f7ca-4c5c-80dd-d09067445037"
      },
      "outputs": [
        {
          "data": {
            "text/plain": [
              "array([17.28439337, 16.74723281, 21.99067161, 24.59641293, 12.11594768,\n",
              "       21.0260405 , 10.16015242, 12.34000166, 11.69160518, 17.02632765,\n",
              "       22.77043848, 15.35179255,  8.48390554, 14.92362495, 18.61652075,\n",
              "       18.79305147, 18.93241403, 14.40578745,  9.66309965, 20.60811746,\n",
              "       14.90819896, 17.84821764, 23.05202208,  7.74831821, 21.56515812,\n",
              "       19.44643919, 13.94689181, 11.56252064, 18.37586461, 12.20450682,\n",
              "       11.35364572,  9.91712851, 13.57421226, 15.1818094 , 18.06495284,\n",
              "        6.80822383, 14.13713702, 14.14878696, 14.15210507, 10.69630799])"
            ]
          },
          "execution_count": 39,
          "metadata": {},
          "output_type": "execute_result"
        }
      ],
      "source": [
        "y_predict "
      ]
    },
    {
      "cell_type": "code",
      "execution_count": null,
      "id": "de2e412f",
      "metadata": {
        "id": "de2e412f",
        "outputId": "0cea456a-6c1e-479e-e51b-f020d66dae21"
      },
      "outputs": [
        {
          "data": {
            "text/plain": [
              "array([ 1.37072005e+01,  8.82222543e+00, -3.92641731e-04])"
            ]
          },
          "execution_count": 40,
          "metadata": {},
          "output_type": "execute_result"
        }
      ],
      "source": [
        "LR.coef_"
      ]
    },
    {
      "cell_type": "code",
      "execution_count": null,
      "id": "a0ae48ff",
      "metadata": {
        "id": "a0ae48ff",
        "outputId": "18148099-15ed-46b1-e2aa-31b4bbffd46c"
      },
      "outputs": [
        {
          "data": {
            "text/plain": [
              "3.0956013989406674"
            ]
          },
          "execution_count": 41,
          "metadata": {},
          "output_type": "execute_result"
        }
      ],
      "source": [
        "LR.intercept_"
      ]
    },
    {
      "cell_type": "code",
      "execution_count": null,
      "id": "ad90af44",
      "metadata": {
        "id": "ad90af44"
      },
      "outputs": [],
      "source": [
        "# Step 4 : Model Evaluation\n",
        "from sklearn.metrics import r2_score,mean_squared_error,mean_absolute_error\n",
        "r2score=r2_score(y_test,y_predict)"
      ]
    },
    {
      "cell_type": "code",
      "execution_count": null,
      "id": "143cc66b",
      "metadata": {
        "id": "143cc66b",
        "outputId": "5f71ab01-44f7-4947-a131-e18387bc980d"
      },
      "outputs": [
        {
          "data": {
            "text/plain": [
              "0.9086633358695457"
            ]
          },
          "execution_count": 43,
          "metadata": {},
          "output_type": "execute_result"
        }
      ],
      "source": [
        "r2score"
      ]
    },
    {
      "cell_type": "code",
      "execution_count": null,
      "id": "89aa9d19",
      "metadata": {
        "id": "89aa9d19",
        "outputId": "d6b938d6-43ef-4680-cd97-dd2d9fec2f50"
      },
      "outputs": [
        {
          "data": {
            "text/plain": [
              "(40, 3)"
            ]
          },
          "execution_count": 44,
          "metadata": {},
          "output_type": "execute_result"
        }
      ],
      "source": [
        "X_test.shape"
      ]
    },
    {
      "cell_type": "markdown",
      "id": "d8886d96",
      "metadata": {
        "id": "d8886d96"
      },
      "source": [
        "![title](https://4.bp.blogspot.com/-qEGt3DaQIF0/V2meLITZj3I/AAAAAAAAEp4/WKCs0FrI1JsovDMwaw1r1iUboULfRI7MwCLcB/s1600/stb1.png)"
      ]
    },
    {
      "cell_type": "code",
      "execution_count": null,
      "id": "eb1ad262",
      "metadata": {
        "id": "eb1ad262",
        "outputId": "d08ff4d8-e930-4953-d525-ba484f77cb43"
      },
      "outputs": [
        {
          "data": {
            "text/plain": [
              "0.8972222222222223"
            ]
          },
          "execution_count": 45,
          "metadata": {},
          "output_type": "execute_result"
        }
      ],
      "source": [
        "#adjusted r2 score\n",
        "adjusted_r2=1-(1-0.90)*(40-3)/(40-3-1)\n",
        "adjusted_r2"
      ]
    },
    {
      "cell_type": "code",
      "execution_count": null,
      "id": "6774b118",
      "metadata": {
        "id": "6774b118",
        "outputId": "248bd9e2-7a61-4e0a-8073-974639574303"
      },
      "outputs": [
        {
          "name": "stdout",
          "output_type": "stream",
          "text": [
            "mean_squared_error :  2.2150688066383877\n",
            "Root mean_squared_error :  1.4883107224764551\n"
          ]
        }
      ],
      "source": [
        "import math\n",
        "print('mean_squared_error : ',mean_squared_error(y_test,y_predict))\n",
        "print('Root mean_squared_error : ',math.sqrt(mean_squared_error(y_test,y_predict)))"
      ]
    },
    {
      "cell_type": "code",
      "execution_count": null,
      "id": "dee3cd8d",
      "metadata": {
        "id": "dee3cd8d",
        "outputId": "3ab3a915-459c-4d0f-a53a-c16f0dc85fdf"
      },
      "outputs": [
        {
          "name": "stdout",
          "output_type": "stream",
          "text": [
            "mean_absolute_error :  1.210801641877607\n"
          ]
        }
      ],
      "source": [
        "print('mean_absolute_error : ',mean_absolute_error(y_test,y_predict))"
      ]
    }
  ],
  "metadata": {
    "kernelspec": {
      "display_name": "Python 3 (ipykernel)",
      "language": "python",
      "name": "python3"
    },
    "language_info": {
      "codemirror_mode": {
        "name": "ipython",
        "version": 3
      },
      "file_extension": ".py",
      "mimetype": "text/x-python",
      "name": "python",
      "nbconvert_exporter": "python",
      "pygments_lexer": "ipython3",
      "version": "3.10.2"
    },
    "colab": {
      "provenance": [],
      "include_colab_link": true
    }
  },
  "nbformat": 4,
  "nbformat_minor": 5
}